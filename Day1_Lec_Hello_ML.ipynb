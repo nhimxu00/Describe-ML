{
  "nbformat": 4,
  "nbformat_minor": 0,
  "metadata": {
    "colab": {
      "name": "Day1-Lec-Hello-ML.ipynb",
      "provenance": [],
      "collapsed_sections": [],
      "include_colab_link": true
    },
    "kernelspec": {
      "name": "python3",
      "display_name": "Python 3"
    }
  },
  "cells": [
    {
      "cell_type": "markdown",
      "metadata": {
        "id": "view-in-github",
        "colab_type": "text"
      },
      "source": [
        "<a href=\"https://colab.research.google.com/github/nhimxu00/Th-c-h-nh-C-/blob/master/Day1_Lec_Hello_ML.ipynb\" target=\"_parent\"><img src=\"https://colab.research.google.com/assets/colab-badge.svg\" alt=\"Open In Colab\"/></a>"
      ]
    },
    {
      "cell_type": "markdown",
      "metadata": {
        "id": "Ura-7K3tg3lW",
        "colab_type": "text"
      },
      "source": [
        "# The Hello World of Machine Learning"
      ]
    },
    {
      "cell_type": "markdown",
      "metadata": {
        "id": "NpWs_5QTg8TZ",
        "colab_type": "text"
      },
      "source": [
        "*Like every first app you should start with something super simple.*"
      ]
    },
    {
      "cell_type": "markdown",
      "metadata": {
        "id": "5_6G82bFhq8Q",
        "colab_type": "text"
      },
      "source": [
        "**Import libraries**"
      ]
    },
    {
      "cell_type": "code",
      "metadata": {
        "id": "q3dMVL6cgxNH",
        "colab_type": "code",
        "colab": {}
      },
      "source": [
        "from sklearn.linear_model import LinearRegression\n",
        "from sklearn.metrics import mean_squared_error\n",
        "import numpy as np\n",
        "import matplotlib.pyplot as plt\n",
        "import pandas as pd\n",
        "import seaborn as sns"
      ],
      "execution_count": 0,
      "outputs": []
    },
    {
      "cell_type": "markdown",
      "metadata": {
        "id": "XzJEuKZjh0KB",
        "colab_type": "text"
      },
      "source": [
        "Before building our ML model, let's start with some data. In this case we are taking 6 xs and 6ys:"
      ]
    },
    {
      "cell_type": "code",
      "metadata": {
        "id": "Dbk0XJ8Uhtys",
        "colab_type": "code",
        "colab": {}
      },
      "source": [
        "xs = np.array([0, 1, 2, 3, 4, 5], dtype=float)\n",
        "ys = np.array([3, 7, 11, 15, 19, 23], dtype=float)"
      ],
      "execution_count": 0,
      "outputs": []
    },
    {
      "cell_type": "code",
      "metadata": {
        "id": "JpT3i2KzoQC7",
        "colab_type": "code",
        "outputId": "7daf7929-ec37-473a-a168-adf92517d3d0",
        "colab": {
          "base_uri": "https://localhost:8080/",
          "height": 265
        }
      },
      "source": [
        "plt.scatter(xs, ys)\n",
        "plt.show()"
      ],
      "execution_count": 0,
      "outputs": [
        {
          "output_type": "display_data",
          "data": {
            "image/png": "[encoded data removed]",
            "text/plain": [
              "<Figure size 432x288 with 1 Axes>"
            ]
          },
          "metadata": {
            "tags": []
          }
        }
      ]
    },
    {
      "cell_type": "code",
      "metadata": {
        "id": "WKZC7GGvm3cB",
        "colab_type": "code",
        "colab": {}
      },
      "source": [
        "xs_1 = np.array([0, 1, 2, 3, 4, 5], dtype=float)\n",
        "ys_1 = np.array([1, 2, 3, 4, 5, 6], dtype=float)"
      ],
      "execution_count": 0,
      "outputs": []
    },
    {
      "cell_type": "markdown",
      "metadata": {
        "id": "FilQVz03ic4A",
        "colab_type": "text"
      },
      "source": [
        "Can you see the relationship between xs and ys?"
      ]
    },
    {
      "cell_type": "code",
      "metadata": {
        "id": "7_5y15dgiZu4",
        "colab_type": "code",
        "outputId": "7d86661e-294d-4a36-9c30-34432afc86e4",
        "colab": {
          "base_uri": "https://localhost:8080/",
          "height": 35
        }
      },
      "source": [
        "def predict(x):\n",
        "    return 4*x + 3\n",
        "\n",
        "predict(np.array([10, 23, 3]))"
      ],
      "execution_count": 0,
      "outputs": [
        {
          "output_type": "execute_result",
          "data": {
            "text/plain": [
              "array([ 43,  95, 143])"
            ]
          },
          "metadata": {
            "tags": []
          },
          "execution_count": 68
        }
      ]
    },
    {
      "cell_type": "code",
      "metadata": {
        "id": "FMj72yPsiHNe",
        "colab_type": "code",
        "outputId": "8ee39243-a577-4d46-c69a-4f0ffea2f791",
        "colab": {
          "base_uri": "https://localhost:8080/",
          "height": 35
        }
      },
      "source": [
        "model = LinearRegression()\n",
        "model.fit(xs.reshape(-1, 1), ys)"
      ],
      "execution_count": 0,
      "outputs": [
        {
          "output_type": "execute_result",
          "data": {
            "text/plain": [
              "LinearRegression(copy_X=True, fit_intercept=True, n_jobs=None, normalize=False)"
            ]
          },
          "metadata": {
            "tags": []
          },
          "execution_count": 65
        }
      ]
    },
    {
      "cell_type": "code",
      "metadata": {
        "id": "2AL-eIpgmX3W",
        "colab_type": "code",
        "outputId": "927ad680-f7da-4879-b837-bf1a7bb075bb",
        "colab": {
          "base_uri": "https://localhost:8080/",
          "height": 35
        }
      },
      "source": [
        "model.predict([[1], [2], [3]])"
      ],
      "execution_count": 0,
      "outputs": [
        {
          "output_type": "execute_result",
          "data": {
            "text/plain": [
              "array([ 7., 11., 15.])"
            ]
          },
          "metadata": {
            "tags": []
          },
          "execution_count": 66
        }
      ]
    },
    {
      "cell_type": "code",
      "metadata": {
        "id": "lCX0cvr_mhqc",
        "colab_type": "code",
        "outputId": "c38de827-286b-4b85-e496-d519f0c0ff82",
        "colab": {
          "base_uri": "https://localhost:8080/",
          "height": 35
        }
      },
      "source": [
        "print(f'a = {model.coef_[0]}, b = {model.intercept_}')"
      ],
      "execution_count": 0,
      "outputs": [
        {
          "output_type": "stream",
          "text": [
            "a = 3.999999999999999, b = 3.0000000000000018\n"
          ],
          "name": "stdout"
        }
      ]
    },
    {
      "cell_type": "code",
      "metadata": {
        "id": "LXy_cPU9mllo",
        "colab_type": "code",
        "colab": {}
      },
      "source": [
        ""
      ],
      "execution_count": 0,
      "outputs": []
    },
    {
      "cell_type": "markdown",
      "metadata": {
        "id": "UZgAtts1rfNF",
        "colab_type": "text"
      },
      "source": [
        "## Get started in Machine Learning in five steps\n",
        "\n",
        "In this example we will use a dataset from seaborn library. The dataset contains tips data from different customers females and males, smokers and non smokers, from days Thursday to Sunday, dinner or lunch and from different table size.\n",
        "\n",
        "We want to predict how much tip the waiter will earn based on other parameters."
      ]
    },
    {
      "cell_type": "markdown",
      "metadata": {
        "id": "T6D2nrdcrpDR",
        "colab_type": "text"
      },
      "source": [
        "### Step 1: Import data"
      ]
    },
    {
      "cell_type": "code",
      "metadata": {
        "id": "MEC-xtW6rnjF",
        "colab_type": "code",
        "colab": {}
      },
      "source": [
        "dataframe = sns.load_dataset('tips')"
      ],
      "execution_count": 0,
      "outputs": []
    },
    {
      "cell_type": "code",
      "metadata": {
        "id": "vGxoNkVLrxp8",
        "colab_type": "code",
        "outputId": "844a868e-00d4-41b9-f015-cf9414b842ff",
        "colab": {
          "base_uri": "https://localhost:8080/",
          "height": 225
        }
      },
      "source": [
        "# dataframe.head(5)\n",
        "# dataframe.tail(5)\n",
        "# dataframe.sample(7)\n",
        "dataframe.info()\n",
        "# dataframe.describe()"
      ],
      "execution_count": 0,
      "outputs": [
        {
          "output_type": "stream",
          "text": [
            "<class 'pandas.core.frame.DataFrame'>\n",
            "RangeIndex: 244 entries, 0 to 243\n",
            "Data columns (total 7 columns):\n",
            "total_bill    244 non-null float64\n",
            "tip           244 non-null float64\n",
            "sex           244 non-null category\n",
            "smoker        244 non-null category\n",
            "day           244 non-null category\n",
            "time          244 non-null category\n",
            "size          244 non-null int64\n",
            "dtypes: category(4), float64(2), int64(1)\n",
            "memory usage: 7.3 KB\n"
          ],
          "name": "stdout"
        }
      ]
    },
    {
      "cell_type": "code",
      "metadata": {
        "id": "b4KCu4oosWjt",
        "colab_type": "code",
        "colab": {}
      },
      "source": [
        "# Just for convenience\n",
        "df = dataframe"
      ],
      "execution_count": 0,
      "outputs": []
    },
    {
      "cell_type": "markdown",
      "metadata": {
        "id": "CsuY-5IJsK0b",
        "colab_type": "text"
      },
      "source": [
        "### Step 2: Data analysis"
      ]
    },
    {
      "cell_type": "code",
      "metadata": {
        "id": "CBgob0UesPDW",
        "colab_type": "code",
        "outputId": "30b42b97-4449-4aef-b1cb-7150a662e2bf",
        "colab": {
          "base_uri": "https://localhost:8080/",
          "height": 104
        }
      },
      "source": [
        "# Categorical data: 'sex', 'smoker', 'day', 'time'\n",
        "# df['time'].unique()\n",
        "df['day'].value_counts()"
      ],
      "execution_count": 0,
      "outputs": [
        {
          "output_type": "execute_result",
          "data": {
            "text/plain": [
              "Sat     87\n",
              "Sun     76\n",
              "Thur    62\n",
              "Fri     19\n",
              "Name: day, dtype: int64"
            ]
          },
          "metadata": {
            "tags": []
          },
          "execution_count": 48
        }
      ]
    },
    {
      "cell_type": "markdown",
      "metadata": {
        "id": "XkuQAIU5suKj",
        "colab_type": "text"
      },
      "source": [
        "**What is the best day to work?**\n",
        "*(maximum tips)*"
      ]
    },
    {
      "cell_type": "code",
      "metadata": {
        "id": "r9A8d57RfZUl",
        "colab_type": "code",
        "outputId": "b408d2bf-edcd-400a-9392-310fdd9b7ecd",
        "colab": {
          "base_uri": "https://localhost:8080/",
          "height": 202
        }
      },
      "source": [
        "df.groupby('day').sum()"
      ],
      "execution_count": 0,
      "outputs": [
        {
          "output_type": "execute_result",
          "data": {
            "text/html": [
              "<div>\n",
              "<style scoped>\n",
              "    .dataframe tbody tr th:only-of-type {\n",
              "        vertical-align: middle;\n",
              "    }\n",
              "\n",
              "    .dataframe tbody tr th {\n",
              "        vertical-align: top;\n",
              "    }\n",
              "\n",
              "    .dataframe thead th {\n",
              "        text-align: right;\n",
              "    }\n",
              "</style>\n",
              "<table border=\"1\" class=\"dataframe\">\n",
              "  <thead>\n",
              "    <tr style=\"text-align: right;\">\n",
              "      <th></th>\n",
              "      <th>total_bill</th>\n",
              "      <th>tip</th>\n",
              "      <th>size</th>\n",
              "    </tr>\n",
              "    <tr>\n",
              "      <th>day</th>\n",
              "      <th></th>\n",
              "      <th></th>\n",
              "      <th></th>\n",
              "    </tr>\n",
              "  </thead>\n",
              "  <tbody>\n",
              "    <tr>\n",
              "      <th>Thur</th>\n",
              "      <td>1096.33</td>\n",
              "      <td>171.83</td>\n",
              "      <td>152</td>\n",
              "    </tr>\n",
              "    <tr>\n",
              "      <th>Fri</th>\n",
              "      <td>325.88</td>\n",
              "      <td>51.96</td>\n",
              "      <td>40</td>\n",
              "    </tr>\n",
              "    <tr>\n",
              "      <th>Sat</th>\n",
              "      <td>1778.40</td>\n",
              "      <td>260.40</td>\n",
              "      <td>219</td>\n",
              "    </tr>\n",
              "    <tr>\n",
              "      <th>Sun</th>\n",
              "      <td>1627.16</td>\n",
              "      <td>247.39</td>\n",
              "      <td>216</td>\n",
              "    </tr>\n",
              "  </tbody>\n",
              "</table>\n",
              "</div>"
            ],
            "text/plain": [
              "      total_bill     tip  size\n",
              "day                           \n",
              "Thur     1096.33  171.83   152\n",
              "Fri       325.88   51.96    40\n",
              "Sat      1778.40  260.40   219\n",
              "Sun      1627.16  247.39   216"
            ]
          },
          "metadata": {
            "tags": []
          },
          "execution_count": 40
        }
      ]
    },
    {
      "cell_type": "code",
      "metadata": {
        "id": "1SD6n0Xvs2_V",
        "colab_type": "code",
        "outputId": "e8d1908f-789c-4b8a-a968-95adc81f7e7e",
        "colab": {
          "base_uri": "https://localhost:8080/",
          "height": 202
        }
      },
      "source": [
        "result = df.groupby('day').sum()\n",
        "result['percent'] = result['tip'] / result['total_bill'] * 100\n",
        "result"
      ],
      "execution_count": 0,
      "outputs": [
        {
          "output_type": "execute_result",
          "data": {
            "text/html": [
              "<div>\n",
              "<style scoped>\n",
              "    .dataframe tbody tr th:only-of-type {\n",
              "        vertical-align: middle;\n",
              "    }\n",
              "\n",
              "    .dataframe tbody tr th {\n",
              "        vertical-align: top;\n",
              "    }\n",
              "\n",
              "    .dataframe thead th {\n",
              "        text-align: right;\n",
              "    }\n",
              "</style>\n",
              "<table border=\"1\" class=\"dataframe\">\n",
              "  <thead>\n",
              "    <tr style=\"text-align: right;\">\n",
              "      <th></th>\n",
              "      <th>total_bill</th>\n",
              "      <th>tip</th>\n",
              "      <th>size</th>\n",
              "      <th>percent</th>\n",
              "    </tr>\n",
              "    <tr>\n",
              "      <th>day</th>\n",
              "      <th></th>\n",
              "      <th></th>\n",
              "      <th></th>\n",
              "      <th></th>\n",
              "    </tr>\n",
              "  </thead>\n",
              "  <tbody>\n",
              "    <tr>\n",
              "      <th>Thur</th>\n",
              "      <td>1096.33</td>\n",
              "      <td>171.83</td>\n",
              "      <td>152</td>\n",
              "      <td>15.673201</td>\n",
              "    </tr>\n",
              "    <tr>\n",
              "      <th>Fri</th>\n",
              "      <td>325.88</td>\n",
              "      <td>51.96</td>\n",
              "      <td>40</td>\n",
              "      <td>15.944519</td>\n",
              "    </tr>\n",
              "    <tr>\n",
              "      <th>Sat</th>\n",
              "      <td>1778.40</td>\n",
              "      <td>260.40</td>\n",
              "      <td>219</td>\n",
              "      <td>14.642375</td>\n",
              "    </tr>\n",
              "    <tr>\n",
              "      <th>Sun</th>\n",
              "      <td>1627.16</td>\n",
              "      <td>247.39</td>\n",
              "      <td>216</td>\n",
              "      <td>15.203791</td>\n",
              "    </tr>\n",
              "  </tbody>\n",
              "</table>\n",
              "</div>"
            ],
            "text/plain": [
              "      total_bill     tip  size    percent\n",
              "day                                      \n",
              "Thur     1096.33  171.83   152  15.673201\n",
              "Fri       325.88   51.96    40  15.944519\n",
              "Sat      1778.40  260.40   219  14.642375\n",
              "Sun      1627.16  247.39   216  15.203791"
            ]
          },
          "metadata": {
            "tags": []
          },
          "execution_count": 44
        }
      ]
    },
    {
      "cell_type": "markdown",
      "metadata": {
        "id": "WzXOScLftG7o",
        "colab_type": "text"
      },
      "source": [
        "**Smokers and non smokers, who eat more and tip more?**"
      ]
    },
    {
      "cell_type": "code",
      "metadata": {
        "id": "J8EuqJuLtQiZ",
        "colab_type": "code",
        "outputId": "f7bf1d61-ae26-4941-b601-817b15b2ea0f",
        "colab": {
          "base_uri": "https://localhost:8080/",
          "height": 141
        }
      },
      "source": [
        "result2 = df.groupby('smoker').sum()\n",
        "result2['percent'] = result2['tip'] / result2['total_bill'] * 100\n",
        "result2"
      ],
      "execution_count": 0,
      "outputs": [
        {
          "output_type": "execute_result",
          "data": {
            "text/html": [
              "<div>\n",
              "<style scoped>\n",
              "    .dataframe tbody tr th:only-of-type {\n",
              "        vertical-align: middle;\n",
              "    }\n",
              "\n",
              "    .dataframe tbody tr th {\n",
              "        vertical-align: top;\n",
              "    }\n",
              "\n",
              "    .dataframe thead th {\n",
              "        text-align: right;\n",
              "    }\n",
              "</style>\n",
              "<table border=\"1\" class=\"dataframe\">\n",
              "  <thead>\n",
              "    <tr style=\"text-align: right;\">\n",
              "      <th></th>\n",
              "      <th>total_bill</th>\n",
              "      <th>tip</th>\n",
              "      <th>size</th>\n",
              "      <th>percent</th>\n",
              "    </tr>\n",
              "    <tr>\n",
              "      <th>smoker</th>\n",
              "      <th></th>\n",
              "      <th></th>\n",
              "      <th></th>\n",
              "      <th></th>\n",
              "    </tr>\n",
              "  </thead>\n",
              "  <tbody>\n",
              "    <tr>\n",
              "      <th>Yes</th>\n",
              "      <td>1930.34</td>\n",
              "      <td>279.81</td>\n",
              "      <td>224</td>\n",
              "      <td>14.495374</td>\n",
              "    </tr>\n",
              "    <tr>\n",
              "      <th>No</th>\n",
              "      <td>2897.43</td>\n",
              "      <td>451.77</td>\n",
              "      <td>403</td>\n",
              "      <td>15.592094</td>\n",
              "    </tr>\n",
              "  </tbody>\n",
              "</table>\n",
              "</div>"
            ],
            "text/plain": [
              "        total_bill     tip  size    percent\n",
              "smoker                                     \n",
              "Yes        1930.34  279.81   224  14.495374\n",
              "No         2897.43  451.77   403  15.592094"
            ]
          },
          "metadata": {
            "tags": []
          },
          "execution_count": 46
        }
      ]
    },
    {
      "cell_type": "markdown",
      "metadata": {
        "id": "pTEnpI2UtZ2a",
        "colab_type": "text"
      },
      "source": [
        "### Step 3: Data Visualization"
      ]
    },
    {
      "cell_type": "markdown",
      "metadata": {
        "id": "-0Qyce1ztl-6",
        "colab_type": "text"
      },
      "source": [
        "**#TablesPerDay**"
      ]
    },
    {
      "cell_type": "code",
      "metadata": {
        "id": "_Fk8XYKltgZD",
        "colab_type": "code",
        "outputId": "61c316b4-b000-435c-f41a-eb867b4f1fc5",
        "colab": {
          "base_uri": "https://localhost:8080/",
          "height": 297
        }
      },
      "source": [
        "sns.countplot(x='day', data=df)"
      ],
      "execution_count": 0,
      "outputs": [
        {
          "output_type": "execute_result",
          "data": {
            "text/plain": [
              "<matplotlib.axes._subplots.AxesSubplot at 0x7f6c0f953908>"
            ]
          },
          "metadata": {
            "tags": []
          },
          "execution_count": 47
        },
        {
          "output_type": "display_data",
          "data": {
            "image/png": "[encoded data removed]",
            "text/plain": [
              "<Figure size 432x288 with 1 Axes>"
            ]
          },
          "metadata": {
            "tags": []
          }
        }
      ]
    },
    {
      "cell_type": "markdown",
      "metadata": {
        "id": "rMNLf9NOtr49",
        "colab_type": "text"
      },
      "source": [
        "**#TablesPerDayPerGender**"
      ]
    },
    {
      "cell_type": "code",
      "metadata": {
        "id": "h9xAQVWNtilZ",
        "colab_type": "code",
        "outputId": "be6a035a-df39-477a-d2fb-6a66898813dc",
        "colab": {
          "base_uri": "https://localhost:8080/",
          "height": 297
        }
      },
      "source": [
        "sns.countplot(x='day', hue='sex', data=df)"
      ],
      "execution_count": 0,
      "outputs": [
        {
          "output_type": "execute_result",
          "data": {
            "text/plain": [
              "<matplotlib.axes._subplots.AxesSubplot at 0x7f6c0e888f28>"
            ]
          },
          "metadata": {
            "tags": []
          },
          "execution_count": 50
        },
        {
          "output_type": "display_data",
          "data": {
            "image/png": "[encoded data removed]",
            "text/plain": [
              "<Figure size 432x288 with 1 Axes>"
            ]
          },
          "metadata": {
            "tags": []
          }
        }
      ]
    },
    {
      "cell_type": "markdown",
      "metadata": {
        "id": "qzbLOR7It8iK",
        "colab_type": "text"
      },
      "source": [
        "**#LunchVsDinner**"
      ]
    },
    {
      "cell_type": "code",
      "metadata": {
        "id": "V4aYs64puBU7",
        "colab_type": "code",
        "outputId": "6c2a1f2d-cf7f-438c-8590-ed8f9b6df2b3",
        "colab": {
          "base_uri": "https://localhost:8080/",
          "height": 297
        }
      },
      "source": [
        "sns.countplot(x='day', hue='time', data=df)"
      ],
      "execution_count": 0,
      "outputs": [
        {
          "output_type": "execute_result",
          "data": {
            "text/plain": [
              "<matplotlib.axes._subplots.AxesSubplot at 0x7f6c0e80eb70>"
            ]
          },
          "metadata": {
            "tags": []
          },
          "execution_count": 51
        },
        {
          "output_type": "display_data",
          "data": {
            "image/png": "[encoded data removed]",
            "text/plain": [
              "<Figure size 432x288 with 1 Axes>"
            ]
          },
          "metadata": {
            "tags": []
          }
        }
      ]
    },
    {
      "cell_type": "markdown",
      "metadata": {
        "id": "w93wh7G6WnXa",
        "colab_type": "text"
      },
      "source": [
        "**#TotalBillVsTips**"
      ]
    },
    {
      "cell_type": "code",
      "metadata": {
        "id": "m-SN2yqJWrIO",
        "colab_type": "code",
        "outputId": "34d7cdfb-78ba-4d92-8736-8265fc2c78c8",
        "colab": {
          "base_uri": "https://localhost:8080/",
          "height": 297
        }
      },
      "source": [
        "sns.scatterplot(x='total_bill', y='tip', data=df)"
      ],
      "execution_count": 0,
      "outputs": [
        {
          "output_type": "execute_result",
          "data": {
            "text/plain": [
              "<matplotlib.axes._subplots.AxesSubplot at 0x7f6c102070b8>"
            ]
          },
          "metadata": {
            "tags": []
          },
          "execution_count": 52
        },
        {
          "output_type": "display_data",
          "data": {
            "image/png": "[encoded data removed]",
            "text/plain": [
              "<Figure size 432x288 with 1 Axes>"
            ]
          },
          "metadata": {
            "tags": []
          }
        }
      ]
    },
    {
      "cell_type": "code",
      "metadata": {
        "id": "lhIyTMSMXUHw",
        "colab_type": "code",
        "outputId": "6e8599f2-023a-41fd-ea49-0c5d96308b5d",
        "colab": {
          "base_uri": "https://localhost:8080/",
          "height": 295
        }
      },
      "source": [
        "sns.lineplot(x='total_bill', y='tip', data=df)\n",
        "plt.title('Total bill vs Tip')\n",
        "plt.xlabel('Total Bill')\n",
        "plt.ylabel('Tip')\n",
        "plt.show()"
      ],
      "execution_count": 0,
      "outputs": [
        {
          "output_type": "display_data",
          "data": {
            "image/png": "[encoded data removed]",
            "text/plain": [
              "<Figure size 432x288 with 1 Axes>"
            ]
          },
          "metadata": {
            "tags": []
          }
        }
      ]
    },
    {
      "cell_type": "code",
      "metadata": {
        "id": "pkKJkVVjYJwL",
        "colab_type": "code",
        "outputId": "cb439dd8-7a2d-42a7-a897-7aa60a3ef313",
        "colab": {
          "base_uri": "https://localhost:8080/",
          "height": 295
        }
      },
      "source": [
        "plt.scatter(df['total_bill'], df['tip'])\n",
        "plt.title('Total bill vs Tip')\n",
        "plt.xlabel('Total Bill')\n",
        "plt.ylabel('Tip')\n",
        "plt.show()"
      ],
      "execution_count": 0,
      "outputs": [
        {
          "output_type": "display_data",
          "data": {
            "image/png": "[encoded data removed]",
            "text/plain": [
              "<Figure size 432x288 with 1 Axes>"
            ]
          },
          "metadata": {
            "tags": []
          }
        }
      ]
    },
    {
      "cell_type": "markdown",
      "metadata": {
        "id": "0IVj8YoKudGl",
        "colab_type": "text"
      },
      "source": [
        "### Step 4: Transform and clean the data\n",
        "\n",
        "The computer understands number only. So before we can train the model, we need to convert all the text values into numbers"
      ]
    },
    {
      "cell_type": "markdown",
      "metadata": {
        "id": "gRgNRDoaurYD",
        "colab_type": "text"
      },
      "source": [
        "**Convert the columns `sex`, `time` and `smoker` to number**"
      ]
    },
    {
      "cell_type": "code",
      "metadata": {
        "id": "Rf-YcyuguwWU",
        "colab_type": "code",
        "outputId": "ffe86b3a-0d8d-48a1-d7e6-753be8bac5a1",
        "colab": {
          "base_uri": "https://localhost:8080/",
          "height": 225
        }
      },
      "source": [
        "input_data = df.replace({'sex': {'Male':0, 'Female':1}, \n",
        "                         'smoker': {'Yes':1, 'No':0}, \n",
        "                         'time': {'Lunch':0, 'Dinner':1}})\n",
        "input_data.info()"
      ],
      "execution_count": 0,
      "outputs": [
        {
          "output_type": "stream",
          "text": [
            "<class 'pandas.core.frame.DataFrame'>\n",
            "RangeIndex: 244 entries, 0 to 243\n",
            "Data columns (total 7 columns):\n",
            "total_bill    244 non-null float64\n",
            "tip           244 non-null float64\n",
            "sex           244 non-null int64\n",
            "smoker        244 non-null int64\n",
            "day           244 non-null category\n",
            "time          244 non-null int64\n",
            "size          244 non-null int64\n",
            "dtypes: category(1), float64(2), int64(4)\n",
            "memory usage: 12.0 KB\n"
          ],
          "name": "stdout"
        }
      ]
    },
    {
      "cell_type": "markdown",
      "metadata": {
        "id": "jgch0o7MvBmK",
        "colab_type": "text"
      },
      "source": [
        "**Handle the `day` column**:"
      ]
    },
    {
      "cell_type": "markdown",
      "metadata": {
        "id": "4MfG6-mYvUM0",
        "colab_type": "text"
      },
      "source": [
        "The values in day column are: Thu, Fri, Sat, Sun we can convert it to 1,2,3,4 but to get a good model, it is better to use boolean variables. We can achieve it by converting the column into 4 columns – one for each day with 0 or 1 as values. In pandas library it can be done using get_dummies."
      ]
    },
    {
      "cell_type": "code",
      "metadata": {
        "id": "o3MtK6V8vU21",
        "colab_type": "code",
        "outputId": "13554e29-5013-4e25-f2b7-9b2d028242a4",
        "colab": {
          "base_uri": "https://localhost:8080/",
          "height": 202
        }
      },
      "source": [
        "input_data = pd.get_dummies(input_data, columns=['day'], drop_first=True)\n",
        "input_data.head()"
      ],
      "execution_count": 0,
      "outputs": [
        {
          "output_type": "execute_result",
          "data": {
            "text/html": [
              "<div>\n",
              "<style scoped>\n",
              "    .dataframe tbody tr th:only-of-type {\n",
              "        vertical-align: middle;\n",
              "    }\n",
              "\n",
              "    .dataframe tbody tr th {\n",
              "        vertical-align: top;\n",
              "    }\n",
              "\n",
              "    .dataframe thead th {\n",
              "        text-align: right;\n",
              "    }\n",
              "</style>\n",
              "<table border=\"1\" class=\"dataframe\">\n",
              "  <thead>\n",
              "    <tr style=\"text-align: right;\">\n",
              "      <th></th>\n",
              "      <th>total_bill</th>\n",
              "      <th>tip</th>\n",
              "      <th>sex</th>\n",
              "      <th>smoker</th>\n",
              "      <th>time</th>\n",
              "      <th>size</th>\n",
              "      <th>day_Fri</th>\n",
              "      <th>day_Sat</th>\n",
              "      <th>day_Sun</th>\n",
              "    </tr>\n",
              "  </thead>\n",
              "  <tbody>\n",
              "    <tr>\n",
              "      <th>0</th>\n",
              "      <td>16.99</td>\n",
              "      <td>1.01</td>\n",
              "      <td>1</td>\n",
              "      <td>0</td>\n",
              "      <td>1</td>\n",
              "      <td>2</td>\n",
              "      <td>0</td>\n",
              "      <td>0</td>\n",
              "      <td>1</td>\n",
              "    </tr>\n",
              "    <tr>\n",
              "      <th>1</th>\n",
              "      <td>10.34</td>\n",
              "      <td>1.66</td>\n",
              "      <td>0</td>\n",
              "      <td>0</td>\n",
              "      <td>1</td>\n",
              "      <td>3</td>\n",
              "      <td>0</td>\n",
              "      <td>0</td>\n",
              "      <td>1</td>\n",
              "    </tr>\n",
              "    <tr>\n",
              "      <th>2</th>\n",
              "      <td>21.01</td>\n",
              "      <td>3.50</td>\n",
              "      <td>0</td>\n",
              "      <td>0</td>\n",
              "      <td>1</td>\n",
              "      <td>3</td>\n",
              "      <td>0</td>\n",
              "      <td>0</td>\n",
              "      <td>1</td>\n",
              "    </tr>\n",
              "    <tr>\n",
              "      <th>3</th>\n",
              "      <td>23.68</td>\n",
              "      <td>3.31</td>\n",
              "      <td>0</td>\n",
              "      <td>0</td>\n",
              "      <td>1</td>\n",
              "      <td>2</td>\n",
              "      <td>0</td>\n",
              "      <td>0</td>\n",
              "      <td>1</td>\n",
              "    </tr>\n",
              "    <tr>\n",
              "      <th>4</th>\n",
              "      <td>24.59</td>\n",
              "      <td>3.61</td>\n",
              "      <td>1</td>\n",
              "      <td>0</td>\n",
              "      <td>1</td>\n",
              "      <td>4</td>\n",
              "      <td>0</td>\n",
              "      <td>0</td>\n",
              "      <td>1</td>\n",
              "    </tr>\n",
              "  </tbody>\n",
              "</table>\n",
              "</div>"
            ],
            "text/plain": [
              "   total_bill   tip  sex  smoker  time  size  day_Fri  day_Sat  day_Sun\n",
              "0       16.99  1.01    1       0     1     2        0        0        1\n",
              "1       10.34  1.66    0       0     1     3        0        0        1\n",
              "2       21.01  3.50    0       0     1     3        0        0        1\n",
              "3       23.68  3.31    0       0     1     2        0        0        1\n",
              "4       24.59  3.61    1       0     1     4        0        0        1"
            ]
          },
          "metadata": {
            "tags": []
          },
          "execution_count": 59
        }
      ]
    },
    {
      "cell_type": "markdown",
      "metadata": {
        "id": "TS7Wcr1gvcyD",
        "colab_type": "text"
      },
      "source": [
        "### Step 5: Build and train the model\n",
        "\n",
        "First we create a list of features as X and predicted as Y:"
      ]
    },
    {
      "cell_type": "code",
      "metadata": {
        "id": "LSiXVwFfvbmC",
        "colab_type": "code",
        "colab": {}
      },
      "source": [
        "# Notice that to select multiple columns we use the syntax:\n",
        "#  [['col_1', 'col_2]]\n",
        "Y = input_data['tip']\n",
        "X = input_data[['sex', 'smoker', 'time', 'size', \n",
        "                'day_Fri', 'day_Sat', 'day_Sun']]"
      ],
      "execution_count": 0,
      "outputs": []
    },
    {
      "cell_type": "markdown",
      "metadata": {
        "id": "mrPQFEWHwN-q",
        "colab_type": "text"
      },
      "source": [
        "Now lets split the data into test and train so we can evaluate our model."
      ]
    },
    {
      "cell_type": "code",
      "metadata": {
        "id": "qlradWvjwSVb",
        "colab_type": "code",
        "outputId": "46165bbb-8300-4114-c023-9926c851b5cd",
        "colab": {
          "base_uri": "https://localhost:8080/",
          "height": 52
        }
      },
      "source": [
        "from sklearn.model_selection import train_test_split\n",
        "\n",
        "X_train, X_test, Y_train, Y_test = train_test_split(X, Y, test_size=0.2, random_state=101)\n",
        "\n",
        "print(X_train.shape, Y_train.shape)\n",
        "\n",
        "print(X_test.shape, Y_test.shape)"
      ],
      "execution_count": 0,
      "outputs": [
        {
          "output_type": "stream",
          "text": [
            "(195, 7) (195,)\n",
            "(49, 7) (49,)\n"
          ],
          "name": "stdout"
        }
      ]
    },
    {
      "cell_type": "markdown",
      "metadata": {
        "id": "tTkhjOOYwWaC",
        "colab_type": "text"
      },
      "source": [
        "Now lets train the model with X_train and y_train:"
      ]
    },
    {
      "cell_type": "code",
      "metadata": {
        "id": "RGtKHGjXwXM3",
        "colab_type": "code",
        "outputId": "f530bb4e-fece-48ea-cbb4-c311aef5e396",
        "colab": {
          "base_uri": "https://localhost:8080/",
          "height": 35
        }
      },
      "source": [
        "model = LinearRegression()\n",
        "model.fit(X_train, Y_train)"
      ],
      "execution_count": 0,
      "outputs": [
        {
          "output_type": "execute_result",
          "data": {
            "text/plain": [
              "LinearRegression(copy_X=True, fit_intercept=True, n_jobs=None, normalize=False)"
            ]
          },
          "metadata": {
            "tags": []
          },
          "execution_count": 62
        }
      ]
    },
    {
      "cell_type": "markdown",
      "metadata": {
        "id": "bQ_bvRjPwn8X",
        "colab_type": "text"
      },
      "source": [
        "Let's try one testing first: `three men take a smoke table on Friday lunch`"
      ]
    },
    {
      "cell_type": "code",
      "metadata": {
        "id": "zsfDyatIwlPh",
        "colab_type": "code",
        "outputId": "1626d01e-caa5-44ab-e39a-242c824305fa",
        "colab": {
          "base_uri": "https://localhost:8080/",
          "height": 35
        }
      },
      "source": [
        "testing = [0, 1, 0, 3, 1, 0, 0]\n",
        "model.predict([testing])"
      ],
      "execution_count": 0,
      "outputs": [
        {
          "output_type": "execute_result",
          "data": {
            "text/plain": [
              "array([3.1183622])"
            ]
          },
          "metadata": {
            "tags": []
          },
          "execution_count": 63
        }
      ]
    },
    {
      "cell_type": "markdown",
      "metadata": {
        "id": "-ASNEm_JxhYJ",
        "colab_type": "text"
      },
      "source": [
        "Now let's test the model on the testing data"
      ]
    },
    {
      "cell_type": "code",
      "metadata": {
        "id": "Rp6k2wS1xk70",
        "colab_type": "code",
        "colab": {}
      },
      "source": [
        "predictions = model.predict(X_test)"
      ],
      "execution_count": 0,
      "outputs": []
    },
    {
      "cell_type": "code",
      "metadata": {
        "id": "aWIqIeCjxnAI",
        "colab_type": "code",
        "outputId": "b0cc7c1b-eebe-413b-ee5b-02a13e96f632",
        "colab": {
          "base_uri": "https://localhost:8080/",
          "height": 297
        }
      },
      "source": [
        "sns.distplot(Y_test - predictions, bins=20)"
      ],
      "execution_count": 0,
      "outputs": [
        {
          "output_type": "execute_result",
          "data": {
            "text/plain": [
              "<matplotlib.axes._subplots.AxesSubplot at 0x7f6c0e648dd8>"
            ]
          },
          "metadata": {
            "tags": []
          },
          "execution_count": 65
        },
        {
          "output_type": "display_data",
          "data": {
            "image/png": "[encoded data removed]",
            "text/plain": [
              "<Figure size 432x288 with 1 Axes>"
            ]
          },
          "metadata": {
            "tags": []
          }
        }
      ]
    },
    {
      "cell_type": "code",
      "metadata": {
        "id": "vXk5W5rzyIQT",
        "colab_type": "code",
        "outputId": "2eaf5990-6b4b-4bd7-8cf6-ef06d63d6c93",
        "colab": {
          "base_uri": "https://localhost:8080/",
          "height": 35
        }
      },
      "source": [
        "# Mean squared error\n",
        "mean_squared_error(Y_test, predictions)"
      ],
      "execution_count": 0,
      "outputs": [
        {
          "output_type": "execute_result",
          "data": {
            "text/plain": [
              "1.734540459128683"
            ]
          },
          "metadata": {
            "tags": []
          },
          "execution_count": 66
        }
      ]
    },
    {
      "cell_type": "markdown",
      "metadata": {
        "id": "8hg6QXRGnXe7",
        "colab_type": "text"
      },
      "source": [
        "## Additional Resources\n",
        "\n",
        "- [Get started with Google Colab](https://www.youtube.com/watch?v=inN8seMm7UI)\n",
        "- [An intro to ML with sklearn](https://scikit-learn.org/stable/tutorial/basic/tutorial.html)\n",
        "- [Linear Regression example](https://scikit-learn.org/stable/auto_examples/linear_model/plot_ols.html#sphx-glr-auto-examples-linear-model-plot-ols-py)\n",
        "- [Basic Matplotlib](https://github.com/rougier/matplotlib-tutorial)\n",
        "- [Matplotlib tutorial](http://www.labri.fr/perso/nrougier/teaching/matplotlib/)\n",
        "- [Pandas Documentation](https://pandas.pydata.org/docs/)\n",
        "- [Basic Seaborn](https://jakevdp.github.io/PythonDataScienceHandbook/04.14-visualization-with-seaborn.html)\n",
        "- [Seaborn Gallery](https://seaborn.pydata.org/examples/index.html)"
      ]
    }
  ]
}